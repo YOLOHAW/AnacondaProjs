{
 "cells": [
  {
   "cell_type": "code",
   "execution_count": null,
   "id": "3c7f43c4",
   "metadata": {},
   "outputs": [],
   "source": [
    "import sys\n",
    "from PyQt5.QtWidgets import QApplication, QLabel, QWidget\n",
    "\n",
    "app=QApplication(sys.argv)\n",
    "window=QWidget()\n",
    "window.setWindowTitle('Hello World PyQt5')\n",
    "window.setGeometry(100,100,300,80)\n",
    "window.move(60,15)\n",
    "helloMsg=QLabel('<h1>Hello World</h1>',parent=window)\n",
    "helloMsg.move(60,15)\n",
    "window.show()\n",
    "sys.exit(app.exec_())"
   ]
  },
  {
   "cell_type": "code",
   "execution_count": null,
   "id": "2dd9f4e3",
   "metadata": {},
   "outputs": [],
   "source": [
    "import sys\n",
    "from PyQt5.QtWidgets import QApplication, QDialog,QMainWindow, QMessageBox, QPushButton\n",
    "\n",
    "class MainWindow(QMainWindow):\n",
    "    def __init__(self):\n",
    "        super().__init__()\n",
    "        \n",
    "        self.setWindowTitle(\"My App\")\n",
    "        \n",
    "        button=QPushButton(\"Press me for a dialog.\")\n",
    "        button.clicked.connect(self.button_clicked)\n",
    "        self.setCentralWidget(button)\n",
    "        \n",
    "    def button_clicked(self,s):\n",
    "        dlg=QMessageBox(self)\n",
    "        dlg.setWindowTitle(\"I have a question\")\n",
    "        dlg.setText(\"This is a simple dialog\")\n",
    "        button=dlg.exec()\n",
    "        \n",
    "        if button==QMessageBox.Ok:\n",
    "            print(\"OK!\")\n",
    "app=QApplication(sys.argv)\n",
    "window=MainWindow()\n",
    "window.show()\n",
    "app.exec()"
   ]
  },
  {
   "cell_type": "code",
   "execution_count": null,
   "id": "16f547dc",
   "metadata": {},
   "outputs": [],
   "source": [
    "from PyQt5 import QtWidgets, uic\n",
    "import sys\n",
    "app=QtWidgets.QApplication([])\n",
    "win=uic.loadUi(\"mygui.ui\") #specify the location of your .ui file\n",
    "\n",
    "win.show()\n",
    "sys.exit(app.exec())"
   ]
  },
  {
   "cell_type": "code",
   "execution_count": null,
   "id": "528a0f77",
   "metadata": {},
   "outputs": [],
   "source": [
    "from PyQt5 import *\n",
    "from PyQt5 import uic,QtCore\n",
    "from PyQt5.QtWidgets import *\n",
    "\n",
    "import sys\n",
    "\n",
    "class mygui(QDialog):\n",
    "    def __init__(self):\n",
    "        super(mygui,self).__init__()\n",
    "        uic.loadUi('mygui.ui',self)\n",
    "        self.clickbut.clicked.connect(self.ClickMefun)\n",
    "        self.closeme.clicked.connect(self.CloseMeFun)\n",
    "    \n",
    "    def ClickMefun(self):\n",
    "        print(\"your clicked me\")\n",
    "        \n",
    "    def CloseMeFun(self):\n",
    "        print(\"Do you want to close?\")\n",
    "app=QApplication(sys.argv)\n",
    "#app=QApplication([])\n",
    "win=mygui()\n",
    "win.show()\n",
    "sys.exit(app.exec())\n"
   ]
  },
  {
   "cell_type": "code",
   "execution_count": null,
   "id": "0af618b9",
   "metadata": {},
   "outputs": [],
   "source": [
    "from PyQt5 import *\n",
    "from PyQt5 import uic,QtCore\n",
    "from PyQt5.QtWidgets import *\n",
    "\n",
    "import sys\n",
    "\n",
    "class Calculator(QDialog):\n",
    "    def __init__(self):\n",
    "        super(Calculator,self).__init__()\n",
    "        uic.loadUi('calculator.ui',self)\n",
    "        self.but1.clicked.connect(self.Oneclick)\n",
    "        \n",
    "    def Oneclick(self):\n",
    "        print(\"one is clicked\")\n",
    "\n",
    "app=QApplication([])\n",
    "win=Calculator()\n",
    "win.show()\n",
    "sys.exit(app.exec())"
   ]
  },
  {
   "cell_type": "code",
   "execution_count": null,
   "id": "60e78715",
   "metadata": {},
   "outputs": [],
   "source": []
  },
  {
   "cell_type": "code",
   "execution_count": null,
   "id": "c56156e9",
   "metadata": {},
   "outputs": [],
   "source": []
  },
  {
   "cell_type": "code",
   "execution_count": null,
   "id": "3bf38eba",
   "metadata": {},
   "outputs": [],
   "source": []
  },
  {
   "cell_type": "code",
   "execution_count": null,
   "id": "b12b8e15",
   "metadata": {},
   "outputs": [],
   "source": []
  }
 ],
 "metadata": {
  "kernelspec": {
   "display_name": "mykernel",
   "language": "python",
   "name": "mykernel"
  },
  "language_info": {
   "codemirror_mode": {
    "name": "ipython",
    "version": 3
   },
   "file_extension": ".py",
   "mimetype": "text/x-python",
   "name": "python",
   "nbconvert_exporter": "python",
   "pygments_lexer": "ipython3",
   "version": "3.10.6"
  }
 },
 "nbformat": 4,
 "nbformat_minor": 5
}

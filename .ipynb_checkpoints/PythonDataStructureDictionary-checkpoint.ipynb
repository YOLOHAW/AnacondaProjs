{
 "cells": [
  {
   "cell_type": "code",
   "execution_count": 1,
   "id": "8ddd985a",
   "metadata": {},
   "outputs": [
    {
     "name": "stdout",
     "output_type": "stream",
     "text": [
      "name\n",
      "job\n",
      "Salary\n"
     ]
    }
   ],
   "source": [
    "info={\n",
    "    \"name\":\"Cristiano Ronaldo\",\n",
    "    \"job\":\"Professional Footballer\",\n",
    "    \"Salary\":\"Millions of Dollars\"\n",
    "}\n",
    "for y in info.keys():\n",
    "    print(y)"
   ]
  },
  {
   "cell_type": "code",
   "execution_count": 2,
   "id": "f6d312d4",
   "metadata": {},
   "outputs": [
    {
     "name": "stdout",
     "output_type": "stream",
     "text": [
      "Cristiano Ronaldo\n",
      "Professional Footballer\n",
      "Millions of Dollars\n"
     ]
    }
   ],
   "source": [
    "for y in info.values():\n",
    "    print(y)"
   ]
  },
  {
   "cell_type": "code",
   "execution_count": 4,
   "id": "e55facb8",
   "metadata": {},
   "outputs": [
    {
     "name": "stdout",
     "output_type": "stream",
     "text": [
      "name = Cristiano Ronaldo\n",
      "job = Professional Footballer\n",
      "Salary = Millions of Dollars\n"
     ]
    }
   ],
   "source": [
    "for y in info.items():\n",
    "    print(y[0]+\" = \"+y[1])\n",
    "    "
   ]
  },
  {
   "cell_type": "code",
   "execution_count": 5,
   "id": "10d7cc33",
   "metadata": {},
   "outputs": [
    {
     "data": {
      "text/plain": [
       "{'name': 'Cristiano Ronaldo',\n",
       " 'job': 'Professional Footballer',\n",
       " 'Salary': 'Millions of Dollars'}"
      ]
     },
     "execution_count": 5,
     "metadata": {},
     "output_type": "execute_result"
    }
   ],
   "source": [
    "info\n"
   ]
  },
  {
   "cell_type": "code",
   "execution_count": 7,
   "id": "7fb599c0",
   "metadata": {},
   "outputs": [],
   "source": [
    "info.update({\"wife\":1})"
   ]
  },
  {
   "cell_type": "code",
   "execution_count": 8,
   "id": "4e94cf79",
   "metadata": {},
   "outputs": [
    {
     "data": {
      "text/plain": [
       "{'name': 'Cristiano Ronaldo',\n",
       " 'job': 'Professional Footballer',\n",
       " 'Salary': 'Millions of Dollars',\n",
       " 'wife': 1}"
      ]
     },
     "execution_count": 8,
     "metadata": {},
     "output_type": "execute_result"
    }
   ],
   "source": [
    "info"
   ]
  },
  {
   "cell_type": "code",
   "execution_count": 10,
   "id": "ab72af28",
   "metadata": {},
   "outputs": [],
   "source": [
    "info.update({\"unlucky\":1})"
   ]
  },
  {
   "cell_type": "code",
   "execution_count": 11,
   "id": "a74bd00c",
   "metadata": {},
   "outputs": [
    {
     "data": {
      "text/plain": [
       "{'name': 'Cristiano Ronaldo',\n",
       " 'job': 'Professional Footballer',\n",
       " 'Salary': 'Millions of Dollars',\n",
       " 'wife': 1,\n",
       " 'unlucky': 1}"
      ]
     },
     "execution_count": 11,
     "metadata": {},
     "output_type": "execute_result"
    }
   ],
   "source": [
    "info"
   ]
  },
  {
   "cell_type": "code",
   "execution_count": 12,
   "id": "ce46b3b5",
   "metadata": {},
   "outputs": [],
   "source": [
    "del info[\"unlucky\"]"
   ]
  },
  {
   "cell_type": "code",
   "execution_count": 13,
   "id": "2fea5788",
   "metadata": {},
   "outputs": [
    {
     "data": {
      "text/plain": [
       "{'name': 'Cristiano Ronaldo',\n",
       " 'job': 'Professional Footballer',\n",
       " 'Salary': 'Millions of Dollars',\n",
       " 'wife': 1}"
      ]
     },
     "execution_count": 13,
     "metadata": {},
     "output_type": "execute_result"
    }
   ],
   "source": [
    "info"
   ]
  },
  {
   "cell_type": "code",
   "execution_count": 14,
   "id": "ccabacba",
   "metadata": {},
   "outputs": [
    {
     "name": "stdout",
     "output_type": "stream",
     "text": [
      "[1, 2, 3, 4, 5, 6, 7, 8, 9, 10, 11, 12, 13, 14, 15, 16, 17, 18, 19, 20, 21, 22, 23, 24, 25, 26, 27, 28, 29, 30, 31, 32, 33, 34, 35, 36, 37, 38, 39, 40, 41, 42, 43, 44, 45, 46, 47, 48, 49, 50, 51, 52, 53, 54, 55, 56, 57, 58, 59, 60, 61, 62, 63, 64, 65, 66, 67, 68, 69, 70, 71, 72, 73, 74, 75, 76, 77, 78, 79, 80, 81, 82, 83, 84, 85, 86, 87, 88, 89, 90, 91, 92, 93, 94, 95, 96, 97, 98, 99, 100]\n"
     ]
    }
   ],
   "source": [
    "num=[x for x in range(1,101)]\n",
    "print(num)"
   ]
  },
  {
   "cell_type": "code",
   "execution_count": 15,
   "id": "ff97a763",
   "metadata": {},
   "outputs": [
    {
     "name": "stdout",
     "output_type": "stream",
     "text": [
      "[100, 121, 144, 169, 196, 225, 256, 289, 324, 361, 400, 441, 484, 529, 576, 625, 676, 729, 784, 841, 900, 961, 1024, 1089, 1156, 1225, 1296, 1369, 1444, 1521, 1600, 1681, 1764, 1849, 1936, 2025, 2116, 2209, 2304, 2401, 2500, 2601, 2704, 2809, 2916, 3025, 3136, 3249, 3364, 3481, 3600, 3721, 3844, 3969, 4096, 4225, 4356, 4489, 4624, 4761, 4900, 5041, 5184, 5329, 5476, 5625, 5776, 5929, 6084, 6241, 6400, 6561, 6724, 6889, 7056, 7225, 7396, 7569, 7744, 7921, 8100, 8281, 8464, 8649, 8836, 9025, 9216, 9409, 9604, 9801]\n"
     ]
    }
   ],
   "source": [
    "values=[x**2 for x in range(10,100)]\n",
    "print(values)"
   ]
  },
  {
   "cell_type": "code",
   "execution_count": 18,
   "id": "9c51ed0b",
   "metadata": {},
   "outputs": [
    {
     "name": "stdout",
     "output_type": "stream",
     "text": [
      "Enter the number-1\n",
      "<class 'int'>\n",
      "Your number is invaild because it's -1\n",
      "Enter the another number-99\n",
      "Your number is invaild because it's -99\n",
      "Enter the another number-77\n",
      "Your number is invaild because it's -77\n",
      "Enter the another number77\n",
      "Exited\n"
     ]
    }
   ],
   "source": [
    "number=int(input(\"Enter the number\"))\n",
    "print(type(number))\n",
    "\n",
    "while number<0:\n",
    "    print(\"Your number is invaild because it's \"+str(number))\n",
    "    number=int(input(\"Enter the another number\"))\n",
    "    \n",
    "print(\"Exited\")\n",
    "\n"
   ]
  },
  {
   "cell_type": "code",
   "execution_count": null,
   "id": "c19397bf",
   "metadata": {},
   "outputs": [],
   "source": [
    "x=7\n",
    "y=7\n",
    "\n",
    "if(x>y):\n",
    "    print(\"X is greater than Y\")\n",
    "else if(x==y):\n",
    "    print(\"X is equal with Y\")\n",
    "else:\n",
    "    print(\"Y is greater than X\")\n"
   ]
  },
  {
   "cell_type": "code",
   "execution_count": null,
   "id": "fb18294d",
   "metadata": {},
   "outputs": [],
   "source": []
  },
  {
   "cell_type": "code",
   "execution_count": null,
   "id": "da137757",
   "metadata": {},
   "outputs": [],
   "source": []
  },
  {
   "cell_type": "code",
   "execution_count": null,
   "id": "eff76dd3",
   "metadata": {},
   "outputs": [],
   "source": []
  },
  {
   "cell_type": "code",
   "execution_count": null,
   "id": "94b58b4b",
   "metadata": {},
   "outputs": [],
   "source": []
  }
 ],
 "metadata": {
  "kernelspec": {
   "display_name": "mykernel",
   "language": "python",
   "name": "mykernel"
  },
  "language_info": {
   "codemirror_mode": {
    "name": "ipython",
    "version": 3
   },
   "file_extension": ".py",
   "mimetype": "text/x-python",
   "name": "python",
   "nbconvert_exporter": "python",
   "pygments_lexer": "ipython3",
   "version": "3.10.6"
  }
 },
 "nbformat": 4,
 "nbformat_minor": 5
}

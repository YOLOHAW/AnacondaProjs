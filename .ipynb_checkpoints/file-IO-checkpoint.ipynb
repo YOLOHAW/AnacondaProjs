{
 "cells": [
  {
   "cell_type": "code",
   "execution_count": 2,
   "id": "ff02cf06",
   "metadata": {},
   "outputs": [],
   "source": [
    "file1=open(\"myfile.txt\",\"w\")\n",
    "L=[\"This is Madrid\\n\",\"This is London\\n\",\"This is Paris\\n\"]\n",
    "file1.writelines(L)\n",
    "file1.close()"
   ]
  },
  {
   "cell_type": "code",
   "execution_count": null,
   "id": "dd0892b0",
   "metadata": {},
   "outputs": [],
   "source": []
  }
 ],
 "metadata": {
  "kernelspec": {
   "display_name": "mykernel",
   "language": "python",
   "name": "mykernel"
  },
  "language_info": {
   "codemirror_mode": {
    "name": "ipython",
    "version": 3
   },
   "file_extension": ".py",
   "mimetype": "text/x-python",
   "name": "python",
   "nbconvert_exporter": "python",
   "pygments_lexer": "ipython3",
   "version": "3.10.6"
  }
 },
 "nbformat": 4,
 "nbformat_minor": 5
}

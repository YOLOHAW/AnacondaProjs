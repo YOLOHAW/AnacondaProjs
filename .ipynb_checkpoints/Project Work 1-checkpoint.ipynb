{
 "cells": [
  {
   "cell_type": "code",
   "execution_count": null,
   "id": "5919301c",
   "metadata": {},
   "outputs": [],
   "source": [
    "from PyQt5 import *\n",
    "from PyQt5 import uic,QtCore\n",
    "from PyQt5.QtWidgets import *\n",
    "import sys\n",
    "\n",
    "class ProjectWork1(QDialog):\n",
    "    def __init__(self):\n",
    "        super(ProjectWork1,self).__init__()\n",
    "        uic.loadUi('employee_profile.ui',self)\n",
    "        self.searchbut.clicked.connect(self.SearchInfo)\n",
    "        \n",
    "    def SearchInfo(self):\n",
    "        name=self.inputbox.toPlainText().strip()\n",
    "        with open('employees.txt') as f:\n",
    "            lines=f.readlines()\n",
    "            signal=0\n",
    "            for x in lines:\n",
    "                if name in x:\n",
    "                    print(\"User exists\")\n",
    "                    signal=1\n",
    "                    values=x.split(\",\")\n",
    "                    emp_name=values[0]\n",
    "                    emp_rank=values[1]\n",
    "                    emp_salary=values[2]\n",
    "                    emp_address=values[3]\n",
    "                    self.outputbox.clear()\n",
    "                    self.outputbox.appendPlainText(\"Name  :\"+emp_name+\"\\n\")\n",
    "                    self.outputbox.appendPlainText(\"Rank  :\"+emp_rank+\"\\n\")\n",
    "                    self.outputbox.appendPlainText(\"Salary :\"+emp_salary+\"\\n\")\n",
    "                    self.outputbox.appendPlainText(\"Address :\"+emp_address+\"\\n\")\n",
    "                    \n",
    "            if  signal==0:\n",
    "                self.outputbox.clear()\n",
    "                self.outputbox.appendPlainText(\"No data found for this employee\")\n",
    "                \n",
    "app=QApplication([])\n",
    "win=ProjectWork1()\n",
    "win.show()\n",
    "sys.exit(app.exec())"
   ]
  },
  {
   "cell_type": "code",
   "execution_count": 1,
   "id": "a4c8c599",
   "metadata": {},
   "outputs": [
    {
     "ename": "SystemExit",
     "evalue": "0",
     "output_type": "error",
     "traceback": [
      "An exception has occurred, use %tb to see the full traceback.\n",
      "\u001b[1;31mSystemExit\u001b[0m\u001b[1;31m:\u001b[0m 0\n"
     ]
    },
    {
     "name": "stderr",
     "output_type": "stream",
     "text": [
      "C:\\Users\\lenovo\\anaconda3\\envs\\mibaDiploma\\lib\\site-packages\\IPython\\core\\interactiveshell.py:3406: UserWarning: To exit: use 'exit', 'quit', or Ctrl-D.\n",
      "  warn(\"To exit: use 'exit', 'quit', or Ctrl-D.\", stacklevel=1)\n"
     ]
    }
   ],
   "source": [
    "from PyQt5 import *\n",
    "from PyQt5 import uic,QtCore\n",
    "from PyQt5.QtWidgets import *\n",
    "import sys\n",
    "\n",
    "class ProjectWorkLogin(QDialog):\n",
    "    def __init__(self):\n",
    "        super(ProjectWorkLogin,self).__init__()\n",
    "        uic.loadUi('loginform.ui',self)\n",
    "        self.loginbut.clicked.connect(self.SearchInfo)\n",
    "        \n",
    "    def SearchInfo(self):\n",
    "        name=self.usernametxt.toPlainText().strip().lower()\n",
    "        pwd=self.passwordtxt.text().strip().lower()\n",
    "        with open('loginInfo.txt') as f:\n",
    "            lines=f.readlines()\n",
    "            signal=0\n",
    "            for x in lines:\n",
    "                if name in x:\n",
    "                    signal=1\n",
    "                    values=x.split(\",\")\n",
    "                    username=values[0].strip().lower()\n",
    "                    password=values[1].strip().lower()\n",
    "                    if name==username and pwd==password:\n",
    "                        #can also put QMessageBox direct to Success and Failure \n",
    "                        self.showLoginMessage(\"Login Successful\",\"Your login is successful,Welcom to our system\")\n",
    "                    else:\n",
    "                        self.showLoginMessage(\"Login Successful\",\"Username and password do not match,Try again\")\n",
    "                        \n",
    "            if  signal==0:\n",
    "                from PyQt5.QtWidgets import QMessageBox\n",
    "                msg=QMessageBox()\n",
    "                msg.setWindowTitle(\"Login Error\")\n",
    "                msg.setText(\"Invaild Login,Try Again\")\n",
    "                msg.setIcon(QMessageBox.Critical)\n",
    "                sys.exit(msg.exec_())\n",
    "                \n",
    "    def showLoginMessage(self,title,body):\n",
    "        from PyQt5.QtWidgets import QMessageBox\n",
    "        msg=QMessageBox()\n",
    "        msg.setWindowTitle(title)\n",
    "        msg.setText(body)\n",
    "        msg.exec_()\n",
    "        \n",
    "                \n",
    "app=QApplication([])\n",
    "win=ProjectWorkLogin()\n",
    "win.show()\n",
    "sys.exit(app.exec())"
   ]
  },
  {
   "cell_type": "code",
   "execution_count": null,
   "id": "15222677",
   "metadata": {},
   "outputs": [],
   "source": []
  },
  {
   "cell_type": "code",
   "execution_count": null,
   "id": "f2313d65",
   "metadata": {},
   "outputs": [],
   "source": []
  },
  {
   "cell_type": "code",
   "execution_count": null,
   "id": "67b429a3",
   "metadata": {},
   "outputs": [],
   "source": []
  },
  {
   "cell_type": "code",
   "execution_count": null,
   "id": "ea825fb3",
   "metadata": {},
   "outputs": [],
   "source": []
  }
 ],
 "metadata": {
  "kernelspec": {
   "display_name": "mykernel",
   "language": "python",
   "name": "mykernel"
  },
  "language_info": {
   "codemirror_mode": {
    "name": "ipython",
    "version": 3
   },
   "file_extension": ".py",
   "mimetype": "text/x-python",
   "name": "python",
   "nbconvert_exporter": "python",
   "pygments_lexer": "ipython3",
   "version": "3.10.6"
  }
 },
 "nbformat": 4,
 "nbformat_minor": 5
}

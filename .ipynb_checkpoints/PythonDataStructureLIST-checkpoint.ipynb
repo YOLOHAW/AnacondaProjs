{
 "cells": [
  {
   "cell_type": "code",
   "execution_count": 1,
   "id": "8724c551",
   "metadata": {},
   "outputs": [
    {
     "name": "stdout",
     "output_type": "stream",
     "text": [
      "10\n",
      "20\n",
      "30\n",
      "40\n",
      "50\n"
     ]
    }
   ],
   "source": [
    "from array import *\n",
    "array1 = array('i',[10,20,30,40,50])\n",
    "for x in array1:\n",
    "    print(x)\n",
    "\n"
   ]
  },
  {
   "cell_type": "code",
   "execution_count": 2,
   "id": "a79dd49e",
   "metadata": {},
   "outputs": [
    {
     "name": "stdout",
     "output_type": "stream",
     "text": [
      "50\n"
     ]
    }
   ],
   "source": [
    "array1.insert(5,60)\n",
    "print(x)"
   ]
  },
  {
   "cell_type": "code",
   "execution_count": 3,
   "id": "7a892d4a",
   "metadata": {},
   "outputs": [
    {
     "name": "stdout",
     "output_type": "stream",
     "text": [
      "10\n",
      "20\n",
      "30\n",
      "40\n",
      "50\n",
      "60\n"
     ]
    }
   ],
   "source": [
    "from array import *\n",
    "array1 = array('i',[10,20,30,40,50])\n",
    "array1.insert(5,60)\n",
    "for x in array1:\n",
    "    print(x)\n"
   ]
  },
  {
   "cell_type": "code",
   "execution_count": 7,
   "id": "8734394a",
   "metadata": {},
   "outputs": [
    {
     "name": "stdout",
     "output_type": "stream",
     "text": [
      "10\n",
      "20\n",
      "30\n",
      "40\n",
      "50\n"
     ]
    }
   ],
   "source": [
    "from array import *\n",
    "array1 = array('i',[10,20,30,40,50,60])\n",
    "array1.remove(60)\n",
    "for x in array1:\n",
    "    print(x)\n"
   ]
  },
  {
   "cell_type": "code",
   "execution_count": 12,
   "id": "18983f17",
   "metadata": {},
   "outputs": [
    {
     "name": "stdout",
     "output_type": "stream",
     "text": [
      "10\n",
      "2\n",
      "20\n",
      "2\n",
      "30\n",
      "2\n",
      "40\n",
      "2\n",
      "50\n",
      "2\n"
     ]
    }
   ],
   "source": [
    "from array import *\n",
    "array1 = array('i',[10,20,30,40,50])\n",
    "for x in array1:\n",
    "    print(x)\n",
    "    print(array1.index(30))\n",
    "\n"
   ]
  },
  {
   "cell_type": "code",
   "execution_count": 14,
   "id": "5071c9e2",
   "metadata": {},
   "outputs": [
    {
     "name": "stdout",
     "output_type": "stream",
     "text": [
      "10\n",
      "20\n",
      "30\n",
      "30\n",
      "50\n"
     ]
    }
   ],
   "source": [
    "from array import *\n",
    "array1 = array('i',[10,20,30,40,50])\n",
    "array1[3]=30\n",
    "for x in array1:\n",
    "    print(x)"
   ]
  },
  {
   "cell_type": "code",
   "execution_count": 2,
   "id": "60f45fef",
   "metadata": {},
   "outputs": [
    {
     "name": "stdout",
     "output_type": "stream",
     "text": [
      "12 13 14 15 \n",
      "33 44 55 \n",
      "90 80 70 60 50 \n",
      "11 22 33 \n"
     ]
    }
   ],
   "source": [
    "#Two dimensional Array\n",
    "from array import *\n",
    "T=[[12,13,14,15],[33,44,55],[90,80,70,60,50],[11,22,33]]\n",
    "for r in T:\n",
    "    for c in r:\n",
    "        print(c,end=\" \")\n",
    "    print()"
   ]
  },
  {
   "cell_type": "code",
   "execution_count": 5,
   "id": "0f414835",
   "metadata": {},
   "outputs": [
    {
     "name": "stdout",
     "output_type": "stream",
     "text": [
      "['Cristiano', 'Kobe', 'Chris']\n"
     ]
    }
   ],
   "source": [
    "#Python List\n",
    "names=[\"Cristiano\",\"Kobe\",\"Chris\",\"Roanaldo\",\"Hemsworth\"]\n",
    "print(names[0:3])"
   ]
  },
  {
   "cell_type": "code",
   "execution_count": 6,
   "id": "a01409ae",
   "metadata": {},
   "outputs": [
    {
     "name": "stdout",
     "output_type": "stream",
     "text": [
      "['Cristiano', 'Kobe', 'Chris', 'Hemsworth']\n"
     ]
    }
   ],
   "source": [
    "del names[3]\n",
    "print(names)"
   ]
  },
  {
   "cell_type": "code",
   "execution_count": 8,
   "id": "52fc3f76",
   "metadata": {},
   "outputs": [
    {
     "name": "stdout",
     "output_type": "stream",
     "text": [
      "['Cristiano', 'Kobe', 'Chris', 'Hemsworth', 'Ronaldo']\n"
     ]
    }
   ],
   "source": [
    "names.append(\"Ronaldo\")\n",
    "print(names)"
   ]
  },
  {
   "cell_type": "code",
   "execution_count": 9,
   "id": "877620d3",
   "metadata": {},
   "outputs": [
    {
     "name": "stdout",
     "output_type": "stream",
     "text": [
      "['Cristiano', 'Kobe', 'Ronaldo', 'Chris', 'Hemsworth', 'Ronaldo']\n"
     ]
    }
   ],
   "source": [
    "names.insert(2,\"Ronaldo\")\n",
    "print(names)"
   ]
  },
  {
   "cell_type": "code",
   "execution_count": 10,
   "id": "4d7032e8",
   "metadata": {},
   "outputs": [
    {
     "name": "stdout",
     "output_type": "stream",
     "text": [
      "['Cristiano', 'Kobe', 'Chris', 'Hemsworth', 'Ronaldo']\n"
     ]
    }
   ],
   "source": [
    "del names[2]\n",
    "print(names)"
   ]
  },
  {
   "cell_type": "code",
   "execution_count": 11,
   "id": "11ab4c24",
   "metadata": {},
   "outputs": [
    {
     "name": "stdout",
     "output_type": "stream",
     "text": [
      "['Cristiano', 'Ronaldo', 'Kobe', 'Chris', 'Hemsworth', 'Ronaldo']\n"
     ]
    }
   ],
   "source": [
    "names.insert(1,\"Ronaldo\")\n",
    "print(names)"
   ]
  },
  {
   "cell_type": "code",
   "execution_count": 12,
   "id": "83d3d1ab",
   "metadata": {},
   "outputs": [
    {
     "data": {
      "text/plain": [
       "2"
      ]
     },
     "execution_count": 12,
     "metadata": {},
     "output_type": "execute_result"
    }
   ],
   "source": [
    "names.count(\"Ronaldo\")"
   ]
  },
  {
   "cell_type": "code",
   "execution_count": 13,
   "id": "99bf107c",
   "metadata": {},
   "outputs": [
    {
     "name": "stdout",
     "output_type": "stream",
     "text": [
      "Cristiano Ronaldo is the best player in the world\n"
     ]
    }
   ],
   "source": [
    "if \"Messi\" in names:\n",
    "    print(\"Messis the real GOAT\")\n",
    "else:\n",
    "    print(\"Cristiano Ronaldo is the best player in the world\")"
   ]
  },
  {
   "cell_type": "code",
   "execution_count": 16,
   "id": "bbed1aea",
   "metadata": {},
   "outputs": [],
   "source": [
    "names.sort()"
   ]
  },
  {
   "cell_type": "code",
   "execution_count": 17,
   "id": "855da2c1",
   "metadata": {},
   "outputs": [],
   "source": []
  },
  {
   "cell_type": "code",
   "execution_count": null,
   "id": "61f81e71",
   "metadata": {},
   "outputs": [],
   "source": []
  }
 ],
 "metadata": {
  "kernelspec": {
   "display_name": "mykernel",
   "language": "python",
   "name": "mykernel"
  },
  "language_info": {
   "codemirror_mode": {
    "name": "ipython",
    "version": 3
   },
   "file_extension": ".py",
   "mimetype": "text/x-python",
   "name": "python",
   "nbconvert_exporter": "python",
   "pygments_lexer": "ipython3",
   "version": "3.10.6"
  }
 },
 "nbformat": 4,
 "nbformat_minor": 5
}

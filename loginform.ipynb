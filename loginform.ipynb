{
 "cells": [
  {
   "cell_type": "code",
   "execution_count": 1,
   "id": "f1387e08",
   "metadata": {},
   "outputs": [
    {
     "name": "stdout",
     "output_type": "stream",
     "text": [
      "mgmg\n",
      "mm123\n"
     ]
    },
    {
     "ename": "SystemExit",
     "evalue": "0",
     "output_type": "error",
     "traceback": [
      "An exception has occurred, use %tb to see the full traceback.\n",
      "\u001b[1;31mSystemExit\u001b[0m\u001b[1;31m:\u001b[0m 0\n"
     ]
    },
    {
     "name": "stderr",
     "output_type": "stream",
     "text": [
      "C:\\Users\\lenovo\\anaconda3\\envs\\mibaDiploma\\lib\\site-packages\\IPython\\core\\interactiveshell.py:3406: UserWarning: To exit: use 'exit', 'quit', or Ctrl-D.\n",
      "  warn(\"To exit: use 'exit', 'quit', or Ctrl-D.\", stacklevel=1)\n"
     ]
    }
   ],
   "source": [
    "from PyQt5 import *\n",
    "from PyQt5 import uic,QtCore\n",
    "from PyQt5.QtWidgets import QMessageBox\n",
    "from PyQt5.QtWidgets import *\n",
    "import sys\n",
    "\n",
    "class LoginCheck(QDialog):\n",
    "    def __init__(self):\n",
    "        super(LoginCheck,self).__init__()\n",
    "        uic.loadUi('loginform.ui',self)\n",
    "        self.loginbut.clicked.connect(self.loginfun)\n",
    "        self.closebut.clicked.connect(self.closefun)\n",
    "        \n",
    "    def loginfun(self):\n",
    "        username=self.usernametxt.toPlainText().strip()\n",
    "        pwd=self.passwordtxt.text().strip()\n",
    "        print(username)\n",
    "        print(pwd) \n",
    "        #Check username and pwd\n",
    "        #file read\n",
    "        with open('file.txt') as f:\n",
    "            lines=f.readlines()\n",
    "            found=False\n",
    "            for x in lines:\n",
    "                if username in x:\n",
    "                    found=True\n",
    "                    data=x.split(',')\n",
    "                    password=data[1].strip()\n",
    "                    if password==pwd:\n",
    "                        self.msgshow(\"Login successful\",\"Success\")\n",
    "                    else:\n",
    "                        self.msgshow(\"Username and password does not exist.Please try again.\",\"Error\")\n",
    "                    break\n",
    "            if found==False:\n",
    "                self.msgshow(\"There is no such username\",\"Error\")\n",
    "    \n",
    "    def msgshow(self,mesg,title):\n",
    "        msg=QMessageBox()\n",
    "        msg.setIcon(QMessageBox.Critical)\n",
    "        msg.setText(mesg)\n",
    "        msg.setWindowTitle(title)\n",
    "        \n",
    "        msg.exec_()\n",
    "    \n",
    "    def closefun(self):\n",
    "        sys.exit(self.exec())\n",
    "        \n",
    "app=QApplication([])\n",
    "win=LoginCheck()\n",
    "win.show()\n",
    "sys.exit(app.exec())\n",
    "    "
   ]
  },
  {
   "cell_type": "code",
   "execution_count": null,
   "id": "10cdbc31",
   "metadata": {},
   "outputs": [],
   "source": []
  },
  {
   "cell_type": "code",
   "execution_count": null,
   "id": "7e29143a",
   "metadata": {},
   "outputs": [],
   "source": []
  },
  {
   "cell_type": "code",
   "execution_count": null,
   "id": "062f53cf",
   "metadata": {},
   "outputs": [],
   "source": []
  },
  {
   "cell_type": "code",
   "execution_count": null,
   "id": "703dee29",
   "metadata": {},
   "outputs": [],
   "source": []
  }
 ],
 "metadata": {
  "kernelspec": {
   "display_name": "mykernel",
   "language": "python",
   "name": "mykernel"
  },
  "language_info": {
   "codemirror_mode": {
    "name": "ipython",
    "version": 3
   },
   "file_extension": ".py",
   "mimetype": "text/x-python",
   "name": "python",
   "nbconvert_exporter": "python",
   "pygments_lexer": "ipython3",
   "version": "3.10.6"
  }
 },
 "nbformat": 4,
 "nbformat_minor": 5
}

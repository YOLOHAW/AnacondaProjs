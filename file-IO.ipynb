{
 "cells": [
  {
   "cell_type": "code",
   "execution_count": 2,
   "id": "ff02cf06",
   "metadata": {},
   "outputs": [],
   "source": [
    "file1=open(\"myfile.txt\",\"w\")\n",
    "L=[\"This is Madrid\\n\",\"This is London\\n\",\"This is Paris\\n\"]\n",
    "file1.writelines(L)\n",
    "file1.close()"
   ]
  },
  {
   "cell_type": "code",
   "execution_count": 2,
   "id": "dd0892b0",
   "metadata": {},
   "outputs": [],
   "source": [
    "file1=open(\"myfile.txt\",\"a\")\n",
    "file1.writelines(\"I am the BEST\\n\")\n",
    "file1.close()"
   ]
  },
  {
   "cell_type": "code",
   "execution_count": 3,
   "id": "046dbc04",
   "metadata": {},
   "outputs": [
    {
     "name": "stdout",
     "output_type": "stream",
     "text": [
      "Reading\n",
      "['This is Madrid\\n', 'This is London\\n', 'This is Paris\\n', 'I am the BEST\\n']\n",
      "\n"
     ]
    }
   ],
   "source": [
    "file1=open(\"myfile.txt\",\"r\")\n",
    "print(\"Reading\")\n",
    "print(file1.readlines())\n",
    "print()\n",
    "file1.close()"
   ]
  },
  {
   "cell_type": "code",
   "execution_count": 4,
   "id": "59be6fc4",
   "metadata": {},
   "outputs": [],
   "source": [
    "file1=open(\"myfile.txt\",\"w\")\n",
    "file1.write(\"Cristiano Ronaldo is the BEST player in the world\")\n",
    "file1.close()"
   ]
  },
  {
   "cell_type": "code",
   "execution_count": 6,
   "id": "1f9845ef",
   "metadata": {},
   "outputs": [
    {
     "name": "stdout",
     "output_type": "stream",
     "text": [
      "mgmg\n",
      "mm123\n",
      "\n",
      "\n",
      "susu\n",
      "ss123\n",
      "\n",
      "\n",
      "koko\n",
      "kk123\n",
      "\n"
     ]
    }
   ],
   "source": [
    "with open('file.txt')as f:\n",
    "    lines=f.readlines()\n",
    "    for x in lines:\n",
    "        data=x.split(',')\n",
    "        for v in data:\n",
    "            print(v)\n",
    "        print()"
   ]
  },
  {
   "cell_type": "code",
   "execution_count": null,
   "id": "97f401c7",
   "metadata": {},
   "outputs": [],
   "source": []
  }
 ],
 "metadata": {
  "kernelspec": {
   "display_name": "mykernel",
   "language": "python",
   "name": "mykernel"
  },
  "language_info": {
   "codemirror_mode": {
    "name": "ipython",
    "version": 3
   },
   "file_extension": ".py",
   "mimetype": "text/x-python",
   "name": "python",
   "nbconvert_exporter": "python",
   "pygments_lexer": "ipython3",
   "version": "3.10.6"
  }
 },
 "nbformat": 4,
 "nbformat_minor": 5
}
